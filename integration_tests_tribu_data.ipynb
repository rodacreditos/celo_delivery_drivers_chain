{
 "cells": [
  {
   "cell_type": "markdown",
   "metadata": {},
   "source": [
    "# RODA data"
   ]
  },
  {
   "cell_type": "code",
   "execution_count": 5,
   "metadata": {},
   "outputs": [],
   "source": [
    "import pandas as pd\n",
    "\n",
    "INPUT_DATETIME_FORMAT = \"%m/%d/%y %H:%M\"\n",
    "OUTPUT_DATETIME_FORMAT = \"%Y-%m-%d %H:%M\"\n",
    "\n",
    "original_df = pd.read_csv(\"./data_samples/datos_roda.csv\")\n",
    "original_df['date'] = pd.to_datetime(original_df['Fecha Inicio'], format=INPUT_DATETIME_FORMAT).dt.strftime(\"%Y-%m-%d\")\n",
    "\n",
    "result_df = pd.read_csv(\"./results/datos_roda_processed.csv\")\n",
    "result_df['date'] = pd.to_datetime(result_df['timestampStart'], format=OUTPUT_DATETIME_FORMAT).dt.strftime(\"%Y-%m-%d\")"
   ]
  },
  {
   "cell_type": "markdown",
   "metadata": {},
   "source": [
    "## RODA counts of routes per device per date"
   ]
  },
  {
   "cell_type": "code",
   "execution_count": 6,
   "metadata": {},
   "outputs": [
    {
     "data": {
      "text/plain": [
       "Dispositivo  date      \n",
       "Xch1238      2023-02-20    80\n",
       "             2023-02-25    72\n",
       "Xch1572      2023-09-23    72\n",
       "Xch1238      2023-02-19    71\n",
       "Xch1546      2023-06-02    69\n",
       "                           ..\n",
       "             2023-07-21     1\n",
       "             2023-07-20     1\n",
       "             2023-07-19     1\n",
       "             2023-07-18     1\n",
       "Xch1592      2023-12-11     1\n",
       "Length: 2892, dtype: int64"
      ]
     },
     "execution_count": 6,
     "metadata": {},
     "output_type": "execute_result"
    }
   ],
   "source": [
    "original_df[['Dispositivo', 'date']].value_counts()"
   ]
  },
  {
   "cell_type": "code",
   "execution_count": 7,
   "metadata": {},
   "outputs": [
    {
     "data": {
      "text/plain": [
       "gpsID    date      \n",
       "Xch1238  2023-02-17    10\n",
       "         2023-10-18    10\n",
       "         2023-02-19     9\n",
       "         2023-06-05     8\n",
       "         2023-12-04     8\n",
       "                       ..\n",
       "Xch1431  2023-11-03     1\n",
       "         2023-11-11     1\n",
       "         2023-11-14     1\n",
       "         2023-11-19     1\n",
       "Xch1592  2023-12-09     1\n",
       "Length: 1347, dtype: int64"
      ]
     },
     "execution_count": 7,
     "metadata": {},
     "output_type": "execute_result"
    }
   ],
   "source": [
    "result_df[['gpsID', 'date']].value_counts()"
   ]
  }
 ],
 "metadata": {
  "kernelspec": {
   "display_name": "Python 3",
   "language": "python",
   "name": "python3"
  },
  "language_info": {
   "codemirror_mode": {
    "name": "ipython",
    "version": 3
   },
   "file_extension": ".py",
   "mimetype": "text/x-python",
   "name": "python",
   "nbconvert_exporter": "python",
   "pygments_lexer": "ipython3",
   "version": "3.11.6"
  }
 },
 "nbformat": 4,
 "nbformat_minor": 2
}
